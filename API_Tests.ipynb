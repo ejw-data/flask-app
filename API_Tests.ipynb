{
 "cells": [
  {
   "cell_type": "code",
   "execution_count": 2,
   "metadata": {},
   "outputs": [
    {
     "name": "stdout",
     "output_type": "stream",
     "text": [
      "Collecting openweathermapy\n",
      "  Using cached https://files.pythonhosted.org/packages/41/ea/eda328e60ffc8ee201c6743ecb463ef122f10f9d13ec9fcaa0028736ce4e/openweathermapy-0.6.6.tar.gz\n",
      "Building wheels for collected packages: openweathermapy\n",
      "  Building wheel for openweathermapy (setup.py): started\n",
      "  Building wheel for openweathermapy (setup.py): finished with status 'done'\n",
      "  Stored in directory: C:\\Users\\ejwda\\AppData\\Local\\pip\\Cache\\wheels\\c4\\1d\\0d\\1a3bfa432ec120fcc8d8dcf316bc17b1e779fcbfb17e78a2ec\n",
      "Successfully built openweathermapy\n",
      "Installing collected packages: openweathermapy\n",
      "Successfully installed openweathermapy-0.6.6\n"
     ]
    }
   ],
   "source": [
    "!pip install openweathermapy"
   ]
  },
  {
   "cell_type": "code",
   "execution_count": 1,
   "metadata": {},
   "outputs": [],
   "source": [
    "# Dependencies\n",
    "import openweathermapy.core as owm\n",
    "\n",
    "#config\n",
    "from config import api_key"
   ]
  },
  {
   "cell_type": "code",
   "execution_count": 2,
   "metadata": {},
   "outputs": [],
   "source": [
    "# Create settings dictionary with information we're interested in\n",
    "settings = {\"units\": \"imperial\", \"appid\": api_key}"
   ]
  },
  {
   "cell_type": "code",
   "execution_count": 3,
   "metadata": {},
   "outputs": [],
   "source": [
    "location = (41.881832,-87.623177)"
   ]
  },
  {
   "cell_type": "code",
   "execution_count": 4,
   "metadata": {
    "scrolled": true
   },
   "outputs": [
    {
     "name": "stdout",
     "output_type": "stream",
     "text": [
      "Current weather object for Chicago: {'coord': {'lon': -87.62, 'lat': 41.88}, 'weather': [{'id': 803, 'main': 'Clouds', 'description': 'broken clouds', 'icon': '04n'}], 'base': 'stations', 'main': {'temp': 29.91, 'feels_like': 19.81, 'temp_min': 28, 'temp_max': 32, 'pressure': 1023, 'humidity': 68}, 'visibility': 16093, 'wind': {'speed': 9.17, 'deg': 250}, 'clouds': {'all': 75}, 'dt': 1581214532, 'sys': {'type': 1, 'id': 4861, 'country': 'US', 'sunrise': 1581166552, 'sunset': 1581203610}, 'timezone': -21600, 'id': 4887398, 'name': 'Chicago', 'cod': 200}.\n"
     ]
    }
   ],
   "source": [
    "# Get current weather\n",
    "current_weather_chicago = owm.get_current(location, **settings)\n",
    "print(f\"Current weather object for Chicago: {current_weather_chicago}.\")"
   ]
  },
  {
   "cell_type": "code",
   "execution_count": 5,
   "metadata": {},
   "outputs": [
    {
     "data": {
      "text/plain": [
       "-87.62"
      ]
     },
     "execution_count": 5,
     "metadata": {},
     "output_type": "execute_result"
    }
   ],
   "source": [
    "current_weather_chicago('coord.lon')"
   ]
  },
  {
   "cell_type": "code",
   "execution_count": 6,
   "metadata": {},
   "outputs": [
    {
     "data": {
      "text/plain": [
       "41.88"
      ]
     },
     "execution_count": 6,
     "metadata": {},
     "output_type": "execute_result"
    }
   ],
   "source": [
    "current_weather_chicago('coord.lat')"
   ]
  },
  {
   "cell_type": "code",
   "execution_count": 7,
   "metadata": {},
   "outputs": [
    {
     "data": {
      "text/plain": [
       "29.91"
      ]
     },
     "execution_count": 7,
     "metadata": {},
     "output_type": "execute_result"
    }
   ],
   "source": [
    "current_weather_chicago('main.temp')"
   ]
  },
  {
   "cell_type": "code",
   "execution_count": 8,
   "metadata": {},
   "outputs": [
    {
     "data": {
      "text/plain": [
       "19.81"
      ]
     },
     "execution_count": 8,
     "metadata": {},
     "output_type": "execute_result"
    }
   ],
   "source": [
    "current_weather_chicago('main.feels_like')"
   ]
  },
  {
   "cell_type": "code",
   "execution_count": 9,
   "metadata": {},
   "outputs": [
    {
     "data": {
      "text/plain": [
       "1023"
      ]
     },
     "execution_count": 9,
     "metadata": {},
     "output_type": "execute_result"
    }
   ],
   "source": [
    "current_weather_chicago('main.pressure')"
   ]
  },
  {
   "cell_type": "code",
   "execution_count": 11,
   "metadata": {},
   "outputs": [
    {
     "data": {
      "text/plain": [
       "68"
      ]
     },
     "execution_count": 11,
     "metadata": {},
     "output_type": "execute_result"
    }
   ],
   "source": [
    "current_weather_chicago('main.humidity')"
   ]
  },
  {
   "cell_type": "code",
   "execution_count": 18,
   "metadata": {},
   "outputs": [
    {
     "data": {
      "text/plain": [
       "200"
      ]
     },
     "execution_count": 18,
     "metadata": {},
     "output_type": "execute_result"
    }
   ],
   "source": [
    "# https://openweathermap.org/weather-conditions\n",
    "current_weather_chicago('cod')"
   ]
  },
  {
   "cell_type": "code",
   "execution_count": null,
   "metadata": {},
   "outputs": [],
   "source": []
  },
  {
   "cell_type": "code",
   "execution_count": null,
   "metadata": {},
   "outputs": [],
   "source": []
  },
  {
   "cell_type": "code",
   "execution_count": 22,
   "metadata": {},
   "outputs": [
    {
     "data": {
      "text/plain": [
       "{'route': {'hasTollRoad': False,\n",
       "  'hasBridge': True,\n",
       "  'boundingBox': {'lr': {'lng': -87.624168, 'lat': 41.889717},\n",
       "   'ul': {'lng': -87.654381, 'lat': 41.947342}},\n",
       "  'distance': 5.101,\n",
       "  'hasTimedRestriction': False,\n",
       "  'hasTunnel': False,\n",
       "  'hasHighway': True,\n",
       "  'computedWaypoints': [],\n",
       "  'routeError': {'errorCode': -400, 'message': ''},\n",
       "  'formattedTime': '00:10:14',\n",
       "  'sessionId': '5e3f724f-033a-6750-02b4-182b-0a490d86b6ed',\n",
       "  'hasAccessRestriction': False,\n",
       "  'realTime': 1026,\n",
       "  'hasSeasonalClosure': False,\n",
       "  'hasCountryCross': False,\n",
       "  'fuelUsed': 0.25,\n",
       "  'legs': [{'hasTollRoad': False,\n",
       "    'hasBridge': True,\n",
       "    'destNarrative': 'Proceed to 405 N WABASH AVE.',\n",
       "    'distance': 5.101,\n",
       "    'hasTimedRestriction': False,\n",
       "    'hasTunnel': False,\n",
       "    'hasHighway': True,\n",
       "    'index': 0,\n",
       "    'formattedTime': '00:10:14',\n",
       "    'origIndex': 1,\n",
       "    'hasAccessRestriction': False,\n",
       "    'hasSeasonalClosure': False,\n",
       "    'hasCountryCross': False,\n",
       "    'roadGradeStrategy': [[]],\n",
       "    'destIndex': 7,\n",
       "    'time': 614,\n",
       "    'hasUnpaved': False,\n",
       "    'origNarrative': 'Go south on N Halsted St.',\n",
       "    'maneuvers': [{'distance': 0.253,\n",
       "      'streets': ['W Addison St'],\n",
       "      'narrative': 'Start out going east on W Addison St toward N Sheffield Ave.',\n",
       "      'turnType': 6,\n",
       "      'startPoint': {'lng': -87.654381, 'lat': 41.947262},\n",
       "      'index': 0,\n",
       "      'formattedTime': '00:00:36',\n",
       "      'directionName': 'East',\n",
       "      'maneuverNotes': [],\n",
       "      'linkIds': [],\n",
       "      'signs': [],\n",
       "      'mapUrl': 'http://www.mapquestapi.com/staticmap/v5/map?key=6aMCYSpGBo4Eg20Lw7RljQ0nXcUGsA5S&size=225,160&locations=41.947261810302734,-87.65438079833984|marker-1||41.94734191894531,-87.64946746826172|marker-2||&center=41.94730186462402,-87.65192413330078&defaultMarker=none&zoom=12&rand=-416445458&session=5e3f724f-033a-6750-02b4-182b-0a490d86b6ed',\n",
       "      'transportMode': 'AUTO',\n",
       "      'attributes': 0,\n",
       "      'time': 36,\n",
       "      'iconUrl': 'http://content.mqcdn.com/mqsite/turnsigns/icon-dirs-start_sm.gif',\n",
       "      'direction': 8},\n",
       "     {'distance': 0.507,\n",
       "      'streets': ['N Halsted St'],\n",
       "      'narrative': 'Turn right onto N Halsted St.',\n",
       "      'turnType': 2,\n",
       "      'startPoint': {'lng': -87.649467, 'lat': 41.947342},\n",
       "      'index': 1,\n",
       "      'formattedTime': '00:01:10',\n",
       "      'directionName': 'South',\n",
       "      'maneuverNotes': [],\n",
       "      'linkIds': [],\n",
       "      'signs': [],\n",
       "      'mapUrl': 'http://www.mapquestapi.com/staticmap/v5/map?key=6aMCYSpGBo4Eg20Lw7RljQ0nXcUGsA5S&size=225,160&locations=41.94734191894531,-87.64946746826172|marker-2||41.94000244140625,-87.64925384521484|marker-3||&center=41.94367218017578,-87.64936065673828&defaultMarker=none&zoom=10&rand=-416445458&session=5e3f724f-033a-6750-02b4-182b-0a490d86b6ed',\n",
       "      'transportMode': 'AUTO',\n",
       "      'attributes': 0,\n",
       "      'time': 70,\n",
       "      'iconUrl': 'http://content.mqcdn.com/mqsite/turnsigns/rs_right_sm.gif',\n",
       "      'direction': 4},\n",
       "     {'distance': 0.54,\n",
       "      'streets': ['W Belmont Ave'],\n",
       "      'narrative': 'Turn left onto W Belmont Ave.',\n",
       "      'turnType': 6,\n",
       "      'startPoint': {'lng': -87.649254, 'lat': 41.940002},\n",
       "      'index': 2,\n",
       "      'formattedTime': '00:01:16',\n",
       "      'directionName': 'East',\n",
       "      'maneuverNotes': [],\n",
       "      'linkIds': [],\n",
       "      'signs': [],\n",
       "      'mapUrl': 'http://www.mapquestapi.com/staticmap/v5/map?key=6aMCYSpGBo4Eg20Lw7RljQ0nXcUGsA5S&size=225,160&locations=41.94000244140625,-87.64925384521484|marker-3||41.94028854370117,-87.6388168334961|marker-4||&center=41.94014549255371,-87.64403533935547&defaultMarker=none&zoom=11&rand=-416445458&session=5e3f724f-033a-6750-02b4-182b-0a490d86b6ed',\n",
       "      'transportMode': 'AUTO',\n",
       "      'attributes': 0,\n",
       "      'time': 76,\n",
       "      'iconUrl': 'http://content.mqcdn.com/mqsite/turnsigns/rs_left_sm.gif',\n",
       "      'direction': 8},\n",
       "     {'distance': 0.031,\n",
       "      'streets': ['N Lake Shore Dr'],\n",
       "      'narrative': 'Turn right onto N Lake Shore Dr.',\n",
       "      'turnType': 2,\n",
       "      'startPoint': {'lng': -87.638817, 'lat': 41.940289},\n",
       "      'index': 3,\n",
       "      'formattedTime': '00:00:08',\n",
       "      'directionName': 'Southeast',\n",
       "      'maneuverNotes': [],\n",
       "      'linkIds': [],\n",
       "      'signs': [],\n",
       "      'mapUrl': 'http://www.mapquestapi.com/staticmap/v5/map?key=6aMCYSpGBo4Eg20Lw7RljQ0nXcUGsA5S&size=225,160&locations=41.94028854370117,-87.6388168334961|marker-4||41.93988037109375,-87.6385498046875|marker-5||&center=41.94008445739746,-87.6386833190918&defaultMarker=none&zoom=15&rand=-416445458&session=5e3f724f-033a-6750-02b4-182b-0a490d86b6ed',\n",
       "      'transportMode': 'AUTO',\n",
       "      'attributes': 0,\n",
       "      'time': 8,\n",
       "      'iconUrl': 'http://content.mqcdn.com/mqsite/turnsigns/rs_right_sm.gif',\n",
       "      'direction': 5},\n",
       "     {'distance': 2.584,\n",
       "      'streets': ['N Lake Shore Dr S', 'US-41 S'],\n",
       "      'narrative': 'Merge onto N Lake Shore Dr S/US-41 S via the ramp on the left.',\n",
       "      'turnType': 11,\n",
       "      'startPoint': {'lng': -87.63855, 'lat': 41.93988},\n",
       "      'index': 4,\n",
       "      'formattedTime': '00:03:59',\n",
       "      'directionName': 'South',\n",
       "      'maneuverNotes': [],\n",
       "      'linkIds': [],\n",
       "      'signs': [{'extraText': '',\n",
       "        'text': '41',\n",
       "        'type': 2,\n",
       "        'url': 'http://icons.mqcdn.com/icons/rs2.png?n=41&d=SOUTH',\n",
       "        'direction': 4}],\n",
       "      'mapUrl': 'http://www.mapquestapi.com/staticmap/v5/map?key=6aMCYSpGBo4Eg20Lw7RljQ0nXcUGsA5S&size=225,160&locations=41.93988037109375,-87.6385498046875|marker-5||41.904998779296875,-87.62489318847656|marker-6||&center=41.92243957519531,-87.63172149658203&defaultMarker=none&zoom=8&rand=-416445458&session=5e3f724f-033a-6750-02b4-182b-0a490d86b6ed',\n",
       "      'transportMode': 'AUTO',\n",
       "      'attributes': 1152,\n",
       "      'time': 239,\n",
       "      'iconUrl': 'http://content.mqcdn.com/mqsite/turnsigns/rs_merge_left_sm.gif',\n",
       "      'direction': 4},\n",
       "     {'distance': 0.212,\n",
       "      'streets': [],\n",
       "      'narrative': 'Take the exit toward Michigan Ave.',\n",
       "      'turnType': 14,\n",
       "      'startPoint': {'lng': -87.624893, 'lat': 41.904999},\n",
       "      'index': 5,\n",
       "      'formattedTime': '00:00:32',\n",
       "      'directionName': 'South',\n",
       "      'maneuverNotes': [],\n",
       "      'linkIds': [],\n",
       "      'signs': [],\n",
       "      'mapUrl': 'http://www.mapquestapi.com/staticmap/v5/map?key=6aMCYSpGBo4Eg20Lw7RljQ0nXcUGsA5S&size=225,160&locations=41.904998779296875,-87.62489318847656|marker-6||41.902000427246094,-87.6241683959961|marker-7||&center=41.903499603271484,-87.62453079223633&defaultMarker=none&zoom=11&rand=-416445458&session=5e3f724f-033a-6750-02b4-182b-0a490d86b6ed',\n",
       "      'transportMode': 'AUTO',\n",
       "      'attributes': 0,\n",
       "      'time': 32,\n",
       "      'iconUrl': 'http://content.mqcdn.com/mqsite/turnsigns/rs_gr_exitright_sm.gif',\n",
       "      'direction': 4},\n",
       "     {'distance': 0.08,\n",
       "      'streets': ['N Lake Shore Dr'],\n",
       "      'narrative': 'Stay straight to go onto N Lake Shore Dr.',\n",
       "      'turnType': 0,\n",
       "      'startPoint': {'lng': -87.624168, 'lat': 41.902},\n",
       "      'index': 6,\n",
       "      'formattedTime': '00:00:19',\n",
       "      'directionName': 'South',\n",
       "      'maneuverNotes': [],\n",
       "      'linkIds': [],\n",
       "      'signs': [],\n",
       "      'mapUrl': 'http://www.mapquestapi.com/staticmap/v5/map?key=6aMCYSpGBo4Eg20Lw7RljQ0nXcUGsA5S&size=225,160&locations=41.902000427246094,-87.6241683959961|marker-7||41.900848388671875,-87.62425231933594|marker-8||&center=41.901424407958984,-87.62421035766602&defaultMarker=none&zoom=13&rand=-416445458&session=5e3f724f-033a-6750-02b4-182b-0a490d86b6ed',\n",
       "      'transportMode': 'AUTO',\n",
       "      'attributes': 0,\n",
       "      'time': 19,\n",
       "      'iconUrl': 'http://content.mqcdn.com/mqsite/turnsigns/rs_straight_sm.gif',\n",
       "      'direction': 4},\n",
       "     {'distance': 0.519,\n",
       "      'streets': ['N Michigan Ave'],\n",
       "      'narrative': 'N Lake Shore Dr becomes N Michigan Ave.',\n",
       "      'turnType': 0,\n",
       "      'startPoint': {'lng': -87.624252, 'lat': 41.900848},\n",
       "      'index': 7,\n",
       "      'formattedTime': '00:01:13',\n",
       "      'directionName': 'South',\n",
       "      'maneuverNotes': [],\n",
       "      'linkIds': [],\n",
       "      'signs': [],\n",
       "      'mapUrl': 'http://www.mapquestapi.com/staticmap/v5/map?key=6aMCYSpGBo4Eg20Lw7RljQ0nXcUGsA5S&size=225,160&locations=41.900848388671875,-87.62425231933594|marker-8||41.893341064453125,-87.6242904663086|marker-9||&center=41.8970947265625,-87.62427139282227&defaultMarker=none&zoom=10&rand=-416445458&session=5e3f724f-033a-6750-02b4-182b-0a490d86b6ed',\n",
       "      'transportMode': 'AUTO',\n",
       "      'attributes': 0,\n",
       "      'time': 73,\n",
       "      'iconUrl': 'http://content.mqcdn.com/mqsite/turnsigns/rs_straight_sm.gif',\n",
       "      'direction': 4},\n",
       "     {'distance': 0.127,\n",
       "      'streets': ['E Ontario St'],\n",
       "      'narrative': 'Turn right onto E Ontario St.',\n",
       "      'turnType': 2,\n",
       "      'startPoint': {'lng': -87.62429, 'lat': 41.893341},\n",
       "      'index': 8,\n",
       "      'formattedTime': '00:00:19',\n",
       "      'directionName': 'West',\n",
       "      'maneuverNotes': [],\n",
       "      'linkIds': [],\n",
       "      'signs': [],\n",
       "      'mapUrl': 'http://www.mapquestapi.com/staticmap/v5/map?key=6aMCYSpGBo4Eg20Lw7RljQ0nXcUGsA5S&size=225,160&locations=41.893341064453125,-87.6242904663086|marker-9||41.893314361572266,-87.62675476074219|marker-10||&center=41.893327713012695,-87.62552261352539&defaultMarker=none&zoom=13&rand=-416445458&session=5e3f724f-033a-6750-02b4-182b-0a490d86b6ed',\n",
       "      'transportMode': 'AUTO',\n",
       "      'attributes': 0,\n",
       "      'time': 19,\n",
       "      'iconUrl': 'http://content.mqcdn.com/mqsite/turnsigns/rs_right_sm.gif',\n",
       "      'direction': 7},\n",
       "     {'distance': 0.248,\n",
       "      'streets': ['N Wabash Ave'],\n",
       "      'narrative': 'Turn left onto N Wabash Ave.',\n",
       "      'turnType': 6,\n",
       "      'startPoint': {'lng': -87.626755, 'lat': 41.893314},\n",
       "      'index': 9,\n",
       "      'formattedTime': '00:00:42',\n",
       "      'directionName': 'South',\n",
       "      'maneuverNotes': [],\n",
       "      'linkIds': [],\n",
       "      'signs': [],\n",
       "      'mapUrl': 'http://www.mapquestapi.com/staticmap/v5/map?key=6aMCYSpGBo4Eg20Lw7RljQ0nXcUGsA5S&size=225,160&locations=41.893314361572266,-87.62675476074219|marker-10||41.88971710205078,-87.62665557861328|marker-11||&center=41.89151573181152,-87.62670516967773&defaultMarker=none&zoom=11&rand=-416445458&session=5e3f724f-033a-6750-02b4-182b-0a490d86b6ed',\n",
       "      'transportMode': 'AUTO',\n",
       "      'attributes': 0,\n",
       "      'time': 42,\n",
       "      'iconUrl': 'http://content.mqcdn.com/mqsite/turnsigns/rs_left_sm.gif',\n",
       "      'direction': 4},\n",
       "     {'distance': 0,\n",
       "      'streets': [],\n",
       "      'narrative': '405 N WABASH AVE is on the left.',\n",
       "      'turnType': -1,\n",
       "      'startPoint': {'lng': -87.626656, 'lat': 41.889717},\n",
       "      'index': 10,\n",
       "      'formattedTime': '00:00:00',\n",
       "      'directionName': '',\n",
       "      'maneuverNotes': [],\n",
       "      'linkIds': [],\n",
       "      'signs': [],\n",
       "      'transportMode': 'AUTO',\n",
       "      'attributes': 0,\n",
       "      'time': 0,\n",
       "      'iconUrl': 'http://content.mqcdn.com/mqsite/turnsigns/icon-dirs-end_sm.gif',\n",
       "      'direction': 0}],\n",
       "    'hasFerry': False}],\n",
       "  'options': {'arteryWeights': [],\n",
       "   'cyclingRoadFactor': 1,\n",
       "   'timeType': 0,\n",
       "   'useTraffic': False,\n",
       "   'returnLinkDirections': False,\n",
       "   'countryBoundaryDisplay': True,\n",
       "   'enhancedNarrative': False,\n",
       "   'locale': 'en_US',\n",
       "   'tryAvoidLinkIds': [],\n",
       "   'drivingStyle': 2,\n",
       "   'doReverseGeocode': True,\n",
       "   'generalize': -1,\n",
       "   'mustAvoidLinkIds': [],\n",
       "   'sideOfStreetDisplay': True,\n",
       "   'routeType': 'FASTEST',\n",
       "   'avoidTimedConditions': False,\n",
       "   'routeNumber': 0,\n",
       "   'shapeFormat': 'raw',\n",
       "   'maxWalkingDistance': -1,\n",
       "   'destinationManeuverDisplay': True,\n",
       "   'transferPenalty': -1,\n",
       "   'narrativeType': 'text',\n",
       "   'walkingSpeed': -1,\n",
       "   'urbanAvoidFactor': -1,\n",
       "   'stateBoundaryDisplay': True,\n",
       "   'unit': 'M',\n",
       "   'highwayEfficiency': 22,\n",
       "   'maxLinkId': 0,\n",
       "   'maneuverPenalty': -1,\n",
       "   'avoidTripIds': [],\n",
       "   'filterZoneFactor': -1,\n",
       "   'manmaps': 'true'},\n",
       "  'locations': [{'dragPoint': False,\n",
       "    'displayLatLng': {'lng': -87.654381, 'lat': 41.947258},\n",
       "    'adminArea4': 'Cook',\n",
       "    'adminArea5': 'Chicago',\n",
       "    'postalCode': '60613-4305',\n",
       "    'adminArea1': 'US',\n",
       "    'adminArea3': 'IL',\n",
       "    'type': 's',\n",
       "    'sideOfStreet': 'R',\n",
       "    'geocodeQualityCode': 'P1AAA',\n",
       "    'adminArea4Type': 'County',\n",
       "    'linkId': 53674488,\n",
       "    'street': '1060 W Addison St',\n",
       "    'adminArea5Type': 'City',\n",
       "    'geocodeQuality': 'POINT',\n",
       "    'adminArea1Type': 'Country',\n",
       "    'adminArea3Type': 'State',\n",
       "    'latLng': {'lng': -87.65438, 'lat': 41.947259}},\n",
       "   {'dragPoint': False,\n",
       "    'displayLatLng': {'lng': -87.626656, 'lat': 41.889717},\n",
       "    'adminArea4': 'Cook',\n",
       "    'adminArea5': 'Chicago',\n",
       "    'postalCode': '60611-3511',\n",
       "    'adminArea1': 'US',\n",
       "    'adminArea3': 'IL',\n",
       "    'type': 's',\n",
       "    'sideOfStreet': 'R',\n",
       "    'geocodeQualityCode': 'P1AAA',\n",
       "    'adminArea4Type': 'County',\n",
       "    'linkId': 5493202,\n",
       "    'street': '405 N Wabash Ave',\n",
       "    'adminArea5Type': 'City',\n",
       "    'geocodeQuality': 'POINT',\n",
       "    'adminArea1Type': 'Country',\n",
       "    'adminArea3Type': 'State',\n",
       "    'latLng': {'lng': -87.626654, 'lat': 41.889716}}],\n",
       "  'time': 614,\n",
       "  'hasUnpaved': False,\n",
       "  'locationSequence': [0, 1],\n",
       "  'hasFerry': False},\n",
       " 'info': {'statuscode': 0,\n",
       "  'copyright': {'imageAltText': '© 2019 MapQuest, Inc.',\n",
       "   'imageUrl': 'http://api.mqcdn.com/res/mqlogo.gif',\n",
       "   'text': '© 2019 MapQuest, Inc.'},\n",
       "  'messages': []}}"
      ]
     },
     "execution_count": 22,
     "metadata": {},
     "output_type": "execute_result"
    }
   ],
   "source": [
    "# Dependencies\n",
    "import requests\n",
    "\n",
    "url = 'https://www.mapquestapi.com/directions/v2/optimizedRoute?json={\"locations\":[\"1060 W Addison St, Chicago, IL 60613\",\"405 N Wabash Avenue, Chicago, IL 60611\"]}&outFormat=json&key=6aMCYSpGBo4Eg20Lw7RljQ0nXcUGsA5S'\n",
    "format = \"json\"\n",
    "\n",
    "# Get direction information in JSON format\n",
    "street_directions = requests.get(f\"{url}\").json()\n",
    "\n",
    "street_directions\n"
   ]
  },
  {
   "cell_type": "code",
   "execution_count": 23,
   "metadata": {},
   "outputs": [
    {
     "data": {
      "text/plain": [
       "5.101"
      ]
     },
     "execution_count": 23,
     "metadata": {},
     "output_type": "execute_result"
    }
   ],
   "source": [
    "street_directions[\"route\"]['distance']"
   ]
  },
  {
   "cell_type": "code",
   "execution_count": 24,
   "metadata": {
    "scrolled": true
   },
   "outputs": [
    {
     "data": {
      "text/plain": [
       "614"
      ]
     },
     "execution_count": 24,
     "metadata": {},
     "output_type": "execute_result"
    }
   ],
   "source": [
    "street_directions[\"route\"][\"time\"]"
   ]
  },
  {
   "cell_type": "code",
   "execution_count": 27,
   "metadata": {},
   "outputs": [
    {
     "data": {
      "text/plain": [
       "-87.624168"
      ]
     },
     "execution_count": 27,
     "metadata": {},
     "output_type": "execute_result"
    }
   ],
   "source": [
    "street_directions[\"route\"][\"boundingBox\"][\"lr\"]['lng']"
   ]
  },
  {
   "cell_type": "code",
   "execution_count": 28,
   "metadata": {},
   "outputs": [
    {
     "data": {
      "text/plain": [
       "41.889717"
      ]
     },
     "execution_count": 28,
     "metadata": {},
     "output_type": "execute_result"
    }
   ],
   "source": [
    "street_directions[\"route\"][\"boundingBox\"][\"lr\"]['lat']"
   ]
  },
  {
   "cell_type": "code",
   "execution_count": 29,
   "metadata": {
    "scrolled": true
   },
   "outputs": [
    {
     "data": {
      "text/plain": [
       "-87.654381"
      ]
     },
     "execution_count": 29,
     "metadata": {},
     "output_type": "execute_result"
    }
   ],
   "source": [
    "street_directions[\"route\"][\"boundingBox\"][\"ul\"]['lng']"
   ]
  },
  {
   "cell_type": "code",
   "execution_count": 95,
   "metadata": {},
   "outputs": [
    {
     "data": {
      "text/plain": [
       "41.947342"
      ]
     },
     "execution_count": 95,
     "metadata": {},
     "output_type": "execute_result"
    }
   ],
   "source": [
    "street_directions[\"route\"][\"boundingBox\"][\"ul\"]['lat']"
   ]
  },
  {
   "cell_type": "code",
   "execution_count": null,
   "metadata": {},
   "outputs": [],
   "source": []
  },
  {
   "cell_type": "code",
   "execution_count": null,
   "metadata": {},
   "outputs": [],
   "source": []
  },
  {
   "cell_type": "code",
   "execution_count": null,
   "metadata": {},
   "outputs": [],
   "source": [
    "#'shapely[vectorized]>=1.6'"
   ]
  },
  {
   "cell_type": "code",
   "execution_count": 1,
   "metadata": {},
   "outputs": [
    {
     "name": "stdout",
     "output_type": "stream",
     "text": [
      "Requirement already satisfied: geopip in c:\\users\\ejwda\\envs\\flask-app-3syhrxax\\lib\\site-packages (1.1)\n",
      "Requirement already satisfied: geohash-hilbert in c:\\users\\ejwda\\envs\\flask-app-3syhrxax\\lib\\site-packages (from geopip) (1.3.1)\n",
      "Requirement already satisfied: numpy in c:\\users\\ejwda\\envs\\flask-app-3syhrxax\\lib\\site-packages (1.18.1)\n",
      "Requirement already satisfied: cython in c:\\users\\ejwda\\envs\\flask-app-3syhrxax\\lib\\site-packages (0.29.14)\n",
      "Requirement already up-to-date: geohash-hilbert in c:\\users\\ejwda\\envs\\flask-app-3syhrxax\\lib\\site-packages (1.3.1)\n"
     ]
    }
   ],
   "source": [
    "!pip install geopip\n",
    "!pip install numpy \n",
    "!pip install cython\n",
    "!pip install --upgrade geohash-hilbert"
   ]
  },
  {
   "cell_type": "code",
   "execution_count": 4,
   "metadata": {},
   "outputs": [
    {
     "data": {
      "text/plain": [
       "{'community': 'LOOP',\n",
       " 'area': '0',\n",
       " 'shape_area': '46335565.4586',\n",
       " 'perimeter': '0',\n",
       " 'area_num_1': '32',\n",
       " 'area_numbe': '32',\n",
       " 'comarea_id': '0',\n",
       " 'comarea': '0',\n",
       " 'shape_len': '39428.6729962'}"
      ]
     },
     "execution_count": 4,
     "metadata": {},
     "output_type": "execute_result"
    }
   ],
   "source": [
    "# import geopip\n",
    "# import os\n",
    "\n",
    "# p=[-87.623177, 41.881832]\n",
    "os.environ['REVERSE_GEOCODE_DATA'] = 'Resources/Data/community_areas.geojson'\n",
    "geodata = geopip.search(-87.623177, 41.881832)\n",
    "geodata"
   ]
  },
  {
   "cell_type": "code",
   "execution_count": 42,
   "metadata": {},
   "outputs": [
    {
     "data": {
      "text/plain": [
       "'C:\\\\Users\\\\ejwda\\\\Anaconda3\\\\lib\\\\site-packages\\\\geopip\\\\__init__.py'"
      ]
     },
     "execution_count": 42,
     "metadata": {},
     "output_type": "execute_result"
    }
   ],
   "source": [
    "geopip.__file__\n"
   ]
  },
  {
   "cell_type": "code",
   "execution_count": 5,
   "metadata": {
    "scrolled": true
   },
   "outputs": [
    {
     "data": {
      "text/plain": [
       "'32'"
      ]
     },
     "execution_count": 5,
     "metadata": {},
     "output_type": "execute_result"
    }
   ],
   "source": [
    "geodata['area_num_1']"
   ]
  },
  {
   "cell_type": "code",
   "execution_count": 90,
   "metadata": {},
   "outputs": [],
   "source": [
    "def coded_community(community):\n",
    "    number_communities = 77     \n",
    "\n",
    "    coded_location = []\n",
    "    for i in range(number_communities):\n",
    "        if i == community-1:\n",
    "            coded_location.append(1)\n",
    "        else:\n",
    "            coded_location.append(0)\n",
    "        \n",
    "    return coded_location"
   ]
  },
  {
   "cell_type": "code",
   "execution_count": 91,
   "metadata": {
    "scrolled": true
   },
   "outputs": [
    {
     "data": {
      "text/plain": [
       "[0,\n",
       " 0,\n",
       " 0,\n",
       " 0,\n",
       " 0,\n",
       " 0,\n",
       " 0,\n",
       " 0,\n",
       " 0,\n",
       " 0,\n",
       " 0,\n",
       " 0,\n",
       " 0,\n",
       " 0,\n",
       " 0,\n",
       " 0,\n",
       " 0,\n",
       " 0,\n",
       " 0,\n",
       " 0,\n",
       " 0,\n",
       " 0,\n",
       " 0,\n",
       " 0,\n",
       " 0,\n",
       " 0,\n",
       " 0,\n",
       " 0,\n",
       " 0,\n",
       " 0,\n",
       " 0,\n",
       " 1,\n",
       " 0,\n",
       " 0,\n",
       " 0,\n",
       " 0,\n",
       " 0,\n",
       " 0,\n",
       " 0,\n",
       " 0,\n",
       " 0,\n",
       " 0,\n",
       " 0,\n",
       " 0,\n",
       " 0,\n",
       " 0,\n",
       " 0,\n",
       " 0,\n",
       " 0,\n",
       " 0,\n",
       " 0,\n",
       " 0,\n",
       " 0,\n",
       " 0,\n",
       " 0,\n",
       " 0,\n",
       " 0,\n",
       " 0,\n",
       " 0,\n",
       " 0,\n",
       " 0,\n",
       " 0,\n",
       " 0,\n",
       " 0,\n",
       " 0,\n",
       " 0,\n",
       " 0,\n",
       " 0,\n",
       " 0,\n",
       " 0,\n",
       " 0,\n",
       " 0,\n",
       " 0,\n",
       " 0,\n",
       " 0,\n",
       " 0,\n",
       " 0]"
      ]
     },
     "execution_count": 91,
     "metadata": {},
     "output_type": "execute_result"
    }
   ],
   "source": [
    "coded_community(32)"
   ]
  },
  {
   "cell_type": "code",
   "execution_count": null,
   "metadata": {},
   "outputs": [],
   "source": []
  },
  {
   "cell_type": "code",
   "execution_count": null,
   "metadata": {},
   "outputs": [],
   "source": []
  },
  {
   "cell_type": "code",
   "execution_count": 31,
   "metadata": {},
   "outputs": [],
   "source": [
    "import datetime as dt"
   ]
  },
  {
   "cell_type": "code",
   "execution_count": 32,
   "metadata": {},
   "outputs": [],
   "source": [
    "time = '2019-12-11 00:00:00'"
   ]
  },
  {
   "cell_type": "code",
   "execution_count": 33,
   "metadata": {},
   "outputs": [
    {
     "data": {
      "text/plain": [
       "datetime.datetime(2020, 2, 8, 20, 49, 12, 559733)"
      ]
     },
     "execution_count": 33,
     "metadata": {},
     "output_type": "execute_result"
    }
   ],
   "source": [
    "noncoded_time = dt.datetime.today()\n",
    "noncoded_time"
   ]
  },
  {
   "cell_type": "code",
   "execution_count": 35,
   "metadata": {},
   "outputs": [
    {
     "data": {
      "text/plain": [
       "5"
      ]
     },
     "execution_count": 35,
     "metadata": {},
     "output_type": "execute_result"
    }
   ],
   "source": [
    "# Monday = 0, ..., and Sunday = 6\n",
    "dt.datetime.today().weekday()"
   ]
  },
  {
   "cell_type": "code",
   "execution_count": 92,
   "metadata": {},
   "outputs": [],
   "source": [
    "def coded_week(date_input):\n",
    "    weekdays = 7     \n",
    "\n",
    "    coded_week = []\n",
    "    for i in range(weekdays):\n",
    "        if i == date_input-1:\n",
    "            coded_week.append(1)\n",
    "        else:\n",
    "            coded_week.append(0)\n",
    "        \n",
    "    return coded_week"
   ]
  },
  {
   "cell_type": "code",
   "execution_count": 94,
   "metadata": {},
   "outputs": [
    {
     "data": {
      "text/plain": [
       "[0, 0, 0, 0, 0, 0, 1]"
      ]
     },
     "execution_count": 94,
     "metadata": {},
     "output_type": "execute_result"
    }
   ],
   "source": [
    "coded_week(7)"
   ]
  },
  {
   "cell_type": "code",
   "execution_count": null,
   "metadata": {},
   "outputs": [],
   "source": []
  },
  {
   "cell_type": "code",
   "execution_count": 36,
   "metadata": {},
   "outputs": [
    {
     "data": {
      "text/plain": [
       "datetime.datetime(2020, 2, 8, 20, 49, 31, 902288)"
      ]
     },
     "execution_count": 36,
     "metadata": {},
     "output_type": "execute_result"
    }
   ],
   "source": [
    "dt.datetime.today()"
   ]
  },
  {
   "cell_type": "code",
   "execution_count": 37,
   "metadata": {},
   "outputs": [
    {
     "data": {
      "text/plain": [
       "2"
      ]
     },
     "execution_count": 37,
     "metadata": {},
     "output_type": "execute_result"
    }
   ],
   "source": [
    "dt.datetime.today().month"
   ]
  },
  {
   "cell_type": "code",
   "execution_count": 38,
   "metadata": {},
   "outputs": [
    {
     "data": {
      "text/plain": [
       "[2, 8, 20, 49]"
      ]
     },
     "execution_count": 38,
     "metadata": {},
     "output_type": "execute_result"
    }
   ],
   "source": [
    "noncoded_month = noncoded_time.month\n",
    "noncoded_day = noncoded_time.day\n",
    "noncoded_hour = noncoded_time.hour\n",
    "noncoded_minute = noncoded_time.minute\n",
    "\n",
    "list = [noncoded_month, noncoded_day, noncoded_hour, noncoded_minute]\n",
    "list"
   ]
  },
  {
   "cell_type": "code",
   "execution_count": 81,
   "metadata": {},
   "outputs": [],
   "source": [
    "def coded_date(list, type):\n",
    "    if type == 'months':\n",
    "        time_frame = 12\n",
    "        list_var = 0\n",
    "        \n",
    "    elif type == 'days':\n",
    "        if list[0] in [1,3,5,7,8,10,12]:\n",
    "            time_frame = 31\n",
    "            list_var= 1\n",
    "        \n",
    "        if list[0] in [4,6,9,11]:\n",
    "            time_frame = 30\n",
    "            list_var= 1\n",
    "        \n",
    "        if list[0] in [2]:\n",
    "            time_frame = 28\n",
    "            list_var= 1\n",
    "        \n",
    "        \n",
    "    elif type == 'hr-mins':\n",
    "        time_frame = 96\n",
    "        hours = 24\n",
    "        hour = list[2]\n",
    "        minute = list[3]\n",
    "        quarter_hour = []\n",
    "        \n",
    "\n",
    "        for j in range(hours):\n",
    "            if j == hour:\n",
    "                if minute >=45:\n",
    "                    quarter_hour += [0,0,0,1]\n",
    "                elif minutes >=30:\n",
    "                    quarter_hour += [0,0,1,0]\n",
    "                elif minutes >=15:\n",
    "                    quarter_hour += [0,1,0,0]\n",
    "                else:\n",
    "                    quarter_hour += [1,0,0,0]\n",
    "            else:\n",
    "                quarter_hour += [0,0,0,0]\n",
    "\n",
    "     \n",
    "    if type in ['months', 'days']:\n",
    "        coded_time = []\n",
    "        for i in range(time_frame):\n",
    "            if i == list[list_var]-1:\n",
    "                coded_time.append(1)\n",
    "            else:\n",
    "                coded_time.append(0)\n",
    "        return coded_time\n",
    "    else:\n",
    "        return quarter_hour"
   ]
  },
  {
   "cell_type": "code",
   "execution_count": 83,
   "metadata": {},
   "outputs": [
    {
     "data": {
      "text/plain": [
       "[0, 1, 0, 0, 0, 0, 0, 0, 0, 0, 0, 0]"
      ]
     },
     "execution_count": 83,
     "metadata": {},
     "output_type": "execute_result"
    }
   ],
   "source": [
    "coded_date(list, 'months')"
   ]
  },
  {
   "cell_type": "code",
   "execution_count": 84,
   "metadata": {},
   "outputs": [],
   "source": [
    "date_input = coded_date(list, 'months')+coded_date(list, 'days')+coded_date(list, 'hr-mins')"
   ]
  },
  {
   "cell_type": "code",
   "execution_count": 79,
   "metadata": {},
   "outputs": [
    {
     "data": {
      "text/plain": [
       "136"
      ]
     },
     "execution_count": 79,
     "metadata": {},
     "output_type": "execute_result"
    }
   ],
   "source": [
    "len(date_input)"
   ]
  },
  {
   "cell_type": "code",
   "execution_count": 85,
   "metadata": {},
   "outputs": [
    {
     "data": {
      "text/plain": [
       "[0,\n",
       " 1,\n",
       " 0,\n",
       " 0,\n",
       " 0,\n",
       " 0,\n",
       " 0,\n",
       " 0,\n",
       " 0,\n",
       " 0,\n",
       " 0,\n",
       " 0,\n",
       " 0,\n",
       " 0,\n",
       " 0,\n",
       " 0,\n",
       " 0,\n",
       " 0,\n",
       " 0,\n",
       " 1,\n",
       " 0,\n",
       " 0,\n",
       " 0,\n",
       " 0,\n",
       " 0,\n",
       " 0,\n",
       " 0,\n",
       " 0,\n",
       " 0,\n",
       " 0,\n",
       " 0,\n",
       " 0,\n",
       " 0,\n",
       " 0,\n",
       " 0,\n",
       " 0,\n",
       " 0,\n",
       " 0,\n",
       " 0,\n",
       " 0,\n",
       " 0,\n",
       " 0,\n",
       " 0,\n",
       " 0,\n",
       " 0,\n",
       " 0,\n",
       " 0,\n",
       " 0,\n",
       " 0,\n",
       " 0,\n",
       " 0,\n",
       " 0,\n",
       " 0,\n",
       " 0,\n",
       " 0,\n",
       " 0,\n",
       " 0,\n",
       " 0,\n",
       " 0,\n",
       " 0,\n",
       " 0,\n",
       " 0,\n",
       " 0,\n",
       " 0,\n",
       " 0,\n",
       " 0,\n",
       " 0,\n",
       " 0,\n",
       " 0,\n",
       " 0,\n",
       " 0,\n",
       " 0,\n",
       " 0,\n",
       " 0,\n",
       " 0,\n",
       " 0,\n",
       " 0,\n",
       " 0,\n",
       " 0,\n",
       " 0,\n",
       " 0,\n",
       " 0,\n",
       " 0,\n",
       " 0,\n",
       " 0,\n",
       " 0,\n",
       " 0,\n",
       " 0,\n",
       " 0,\n",
       " 0,\n",
       " 0,\n",
       " 0,\n",
       " 0,\n",
       " 0,\n",
       " 0,\n",
       " 0,\n",
       " 0,\n",
       " 0,\n",
       " 0,\n",
       " 0,\n",
       " 0,\n",
       " 0,\n",
       " 0,\n",
       " 0,\n",
       " 0,\n",
       " 0,\n",
       " 0,\n",
       " 0,\n",
       " 0,\n",
       " 0,\n",
       " 0,\n",
       " 0,\n",
       " 0,\n",
       " 0,\n",
       " 0,\n",
       " 0,\n",
       " 0,\n",
       " 0,\n",
       " 0,\n",
       " 0,\n",
       " 0,\n",
       " 0,\n",
       " 0,\n",
       " 1,\n",
       " 0,\n",
       " 0,\n",
       " 0,\n",
       " 0,\n",
       " 0,\n",
       " 0,\n",
       " 0,\n",
       " 0,\n",
       " 0,\n",
       " 0,\n",
       " 0,\n",
       " 0]"
      ]
     },
     "execution_count": 85,
     "metadata": {},
     "output_type": "execute_result"
    }
   ],
   "source": [
    "date_input"
   ]
  }
 ],
 "metadata": {
  "kernelspec": {
   "display_name": "Python 3",
   "language": "python",
   "name": "python3"
  },
  "language_info": {
   "codemirror_mode": {
    "name": "ipython",
    "version": 3
   },
   "file_extension": ".py",
   "mimetype": "text/x-python",
   "name": "python",
   "nbconvert_exporter": "python",
   "pygments_lexer": "ipython3",
   "version": "3.7.3"
  }
 },
 "nbformat": 4,
 "nbformat_minor": 2
}

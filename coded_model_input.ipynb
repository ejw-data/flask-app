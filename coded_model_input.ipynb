{
 "cells": [
  {
   "cell_type": "code",
   "execution_count": null,
   "metadata": {},
   "outputs": [],
   "source": [
    "!pip install openweathermapy\n",
    "!pip install geopip\n",
    "!pip install numpy \n",
    "!pip install cython\n",
    "!pip install --upgrade geohash-hilbert"
   ]
  },
  {
   "cell_type": "code",
   "execution_count": null,
   "metadata": {},
   "outputs": [],
   "source": [
    "import openweathermapy.core as owm\n",
    "import requests\n",
    "import geopip\n",
    "import os\n",
    "import datetime as dt"
   ]
  },
  {
   "cell_type": "code",
   "execution_count": null,
   "metadata": {},
   "outputs": [],
   "source": [
    "# Weather API\n",
    "from config import api_key\n",
    "\n",
    "# MapQuest API\n",
    "KEY = '6aMCYSpGBo4Eg20Lw7RljQ0nXcUGsA5S'\n",
    "\n",
    "# Set geopip to look at geojson file\n",
    "os.environ['REVERSE_GEOCODE_DATA'] = 'Resources/Data/community_areas.geojson'"
   ]
  },
  {
   "cell_type": "code",
   "execution_count": null,
   "metadata": {},
   "outputs": [],
   "source": [
    "# Form Inputs\n",
    "\n",
    "start_address = \n",
    "end_address = \n",
    "time = \n",
    "# make default app time the current time"
   ]
  },
  {
   "cell_type": "code",
   "execution_count": null,
   "metadata": {},
   "outputs": [],
   "source": [
    "# format time to default\n",
    "\n",
    "time = '2019-12-11 00:00:00'\n",
    "\n",
    "# if error then use 'dt.datetime.today()'"
   ]
  },
  {
   "cell_type": "code",
   "execution_count": null,
   "metadata": {},
   "outputs": [],
   "source": [
    "def coded_week(date_input):\n",
    "    weekdays = 7     \n",
    "\n",
    "    coded_week = []\n",
    "    for i in range(weekdays):\n",
    "        if i == date_input-1:\n",
    "            coded_week.append(1)\n",
    "        else:\n",
    "            coded_week.append(0)\n",
    "        \n",
    "    return coded_week"
   ]
  },
  {
   "cell_type": "code",
   "execution_count": null,
   "metadata": {},
   "outputs": [],
   "source": [
    "# List of Coded Weekday Values\n",
    "start_date = dt.datetime.today().weekday()\n",
    "coded_week = coded_week(start_date)"
   ]
  },
  {
   "cell_type": "code",
   "execution_count": null,
   "metadata": {},
   "outputs": [],
   "source": [
    "def coded_date(list, type):\n",
    "    if type == 'months':\n",
    "        time_frame = 12\n",
    "        list_var = 0\n",
    "        \n",
    "    elif type == 'days':\n",
    "        if list[0] in [1,3,5,7,8,10,12]:\n",
    "            time_frame = 31\n",
    "            list_var= 1\n",
    "        \n",
    "        if list[0] in [4,6,9,11]:\n",
    "            time_frame = 30\n",
    "            list_var= 1\n",
    "        \n",
    "        if list[0] in [2]:\n",
    "            time_frame = 28\n",
    "            list_var= 1\n",
    "        \n",
    "        \n",
    "    elif type == 'hr-mins':\n",
    "        time_frame = 96\n",
    "        hours = 24\n",
    "        hour = list[2]\n",
    "        minute = list[3]\n",
    "        quarter_hour = []\n",
    "        \n",
    "\n",
    "        for j in range(hours):\n",
    "            if j == hour:\n",
    "                if minute >=45:\n",
    "                    quarter_hour += [0,0,0,1]\n",
    "                elif minutes >=30:\n",
    "                    quarter_hour += [0,0,1,0]\n",
    "                elif minutes >=15:\n",
    "                    quarter_hour += [0,1,0,0]\n",
    "                else:\n",
    "                    quarter_hour += [1,0,0,0]\n",
    "            else:\n",
    "                quarter_hour += [0,0,0,0]\n",
    "\n",
    "     \n",
    "    if type in ['months', 'days']:\n",
    "        coded_time = []\n",
    "        for i in range(time_frame):\n",
    "            if i == list[list_var]-1:\n",
    "                coded_time.append(1)\n",
    "            else:\n",
    "                coded_time.append(0)\n",
    "        return coded_time\n",
    "    else:\n",
    "        return quarter_hour"
   ]
  },
  {
   "cell_type": "code",
   "execution_count": null,
   "metadata": {},
   "outputs": [],
   "source": [
    "# List of Coded Months and Days (96 Quarter Hour Periods)\n",
    "noncoded_month = noncoded_time.month\n",
    "noncoded_day = noncoded_time.day\n",
    "noncoded_hour = noncoded_time.hour\n",
    "noncoded_minute = noncoded_time.minute\n",
    "date_list = [noncoded_month, noncoded_day, noncoded_hour, noncoded_minute]\n",
    "coded_date = coded_date(date_list, 'months')+coded_date(date_list, 'days')+coded_date(date_list, 'hr-mins')"
   ]
  },
  {
   "cell_type": "code",
   "execution_count": null,
   "metadata": {},
   "outputs": [],
   "source": [
    "# Extract Map Information - variables added to model\n",
    "url = f'https://www.mapquestapi.com/directions/v2/optimizedRoute?json={{\"locations\":[\"{start_address}\",\"{end_address}\"]}}&outFormat=json&key={KEY}'\n",
    "format = \"json\"\n",
    "\n",
    "street_directions = requests.get(f\"{url}\").json()\n",
    "distance = street_directions[\"route\"]['distance']\n",
    "duration = street_directions[\"route\"][\"time\"]\n",
    "start_longitude = street_directions[\"route\"][\"boundingBox\"][\"lr\"]['lng']\n",
    "start_latitude = street_directions[\"route\"][\"boundingBox\"][\"lr\"]['lat']\n",
    "end_longitude = street_directions[\"route\"][\"boundingBox\"][\"ul\"]['lng']\n",
    "end_latitude = street_directions[\"route\"][\"boundingBox\"][\"ul\"]['lat']\n"
   ]
  },
  {
   "cell_type": "code",
   "execution_count": null,
   "metadata": {},
   "outputs": [],
   "source": [
    "def coded_community(community):\n",
    "    number_communities = 77     \n",
    "\n",
    "    coded_location = []\n",
    "    for i in range(number_communities):\n",
    "        if i == community-1:\n",
    "            coded_location.append(1)\n",
    "        else:\n",
    "            coded_location.append(0)\n",
    "        \n",
    "    return coded_location"
   ]
  },
  {
   "cell_type": "code",
   "execution_count": null,
   "metadata": {},
   "outputs": [],
   "source": [
    "# List of Coded Start Community\n",
    "start_geo = geopip.search(start_longitude, start_latitude)['area_num_1']\n",
    "coded_start_community = coded_community(start_geo)"
   ]
  },
  {
   "cell_type": "code",
   "execution_count": null,
   "metadata": {},
   "outputs": [],
   "source": [
    "# List of Coded End Community\n",
    "end_geo = geopip.search(end_longitude, end_latitude)['area_num_1']\n",
    "coded_end_community = coded_community(end_geo)"
   ]
  },
  {
   "cell_type": "code",
   "execution_count": null,
   "metadata": {},
   "outputs": [],
   "source": [
    "# Retrieve Weather Data\n",
    "settings = {\"units\": \"imperial\", \"appid\": api_key}\n",
    "location = (start_latitude, start_longitude)\n",
    "current_weather_chicago = owm.get_current(location, **settings)\n",
    "actual_temp = current_weather_chicago('main.temp')\n",
    "feels_temp = current_weather_chicago('main.feels_like')\n",
    "pressure = current_weather_chicago('main.pressure')\n",
    "humidity = current_weather_chicago('main.humidity')\n",
    "# https://openweathermap.org/weather-conditions\n",
    "# https://openweathermap.org/weather-data\n",
    "current_weather_chicago('cod')\n",
    "weather = [actual_temp, feels_temp, pressure, humidity]"
   ]
  },
  {
   "cell_type": "code",
   "execution_count": null,
   "metadata": {},
   "outputs": [],
   "source": [
    "# for rain it might not show up in the request becasue there is not key-value pair is there is no rain = need to create /\n",
    "# logic that adds 0"
   ]
  },
  {
   "cell_type": "code",
   "execution_count": null,
   "metadata": {},
   "outputs": [],
   "source": []
  },
  {
   "cell_type": "code",
   "execution_count": null,
   "metadata": {},
   "outputs": [],
   "source": []
  },
  {
   "cell_type": "code",
   "execution_count": null,
   "metadata": {},
   "outputs": [],
   "source": [
    "ML_input = [duration, distance, start_geo, end_geo, start_longitude, start_latitude, end_longitude, end_latitude, / \n",
    "            coded_week, coded_date, coded_start_community, coded_end_community, weather]"
   ]
  },
  {
   "cell_type": "code",
   "execution_count": null,
   "metadata": {},
   "outputs": [],
   "source": []
  },
  {
   "cell_type": "code",
   "execution_count": null,
   "metadata": {},
   "outputs": [],
   "source": []
  },
  {
   "cell_type": "code",
   "execution_count": null,
   "metadata": {},
   "outputs": [],
   "source": []
  }
 ],
 "metadata": {
  "kernelspec": {
   "display_name": "Python 3",
   "language": "python",
   "name": "python3"
  },
  "language_info": {
   "codemirror_mode": {
    "name": "ipython",
    "version": 3
   },
   "file_extension": ".py",
   "mimetype": "text/x-python",
   "name": "python",
   "nbconvert_exporter": "python",
   "pygments_lexer": "ipython3",
   "version": "3.7.3"
  }
 },
 "nbformat": 4,
 "nbformat_minor": 2
}

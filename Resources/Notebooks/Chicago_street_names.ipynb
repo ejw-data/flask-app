{
 "cells": [
  {
   "cell_type": "code",
   "execution_count": 2,
   "metadata": {},
   "outputs": [],
   "source": [
    "import pandas as pd\n",
    "import numpy as np"
   ]
  },
  {
   "cell_type": "code",
   "execution_count": 3,
   "metadata": {},
   "outputs": [],
   "source": [
    "path = '../Data/Chicago_Street_names.csv'"
   ]
  },
  {
   "cell_type": "code",
   "execution_count": 4,
   "metadata": {},
   "outputs": [
    {
     "data": {
      "text/html": [
       "<div>\n",
       "<style scoped>\n",
       "    .dataframe tbody tr th:only-of-type {\n",
       "        vertical-align: middle;\n",
       "    }\n",
       "\n",
       "    .dataframe tbody tr th {\n",
       "        vertical-align: top;\n",
       "    }\n",
       "\n",
       "    .dataframe thead th {\n",
       "        text-align: right;\n",
       "    }\n",
       "</style>\n",
       "<table border=\"1\" class=\"dataframe\">\n",
       "  <thead>\n",
       "    <tr style=\"text-align: right;\">\n",
       "      <th></th>\n",
       "      <th>Full Street Name</th>\n",
       "      <th>Direction</th>\n",
       "      <th>Street</th>\n",
       "      <th>Suffix</th>\n",
       "      <th>Suffix Direction</th>\n",
       "      <th>Min Address</th>\n",
       "      <th>Max Address</th>\n",
       "    </tr>\n",
       "  </thead>\n",
       "  <tbody>\n",
       "    <tr>\n",
       "      <th>0</th>\n",
       "      <td>E 100TH PL</td>\n",
       "      <td>E</td>\n",
       "      <td>100TH</td>\n",
       "      <td>PL</td>\n",
       "      <td>NaN</td>\n",
       "      <td>1</td>\n",
       "      <td>1199</td>\n",
       "    </tr>\n",
       "    <tr>\n",
       "      <th>1</th>\n",
       "      <td>W 100TH PL</td>\n",
       "      <td>W</td>\n",
       "      <td>100TH</td>\n",
       "      <td>PL</td>\n",
       "      <td>NaN</td>\n",
       "      <td>300</td>\n",
       "      <td>2629</td>\n",
       "    </tr>\n",
       "    <tr>\n",
       "      <th>2</th>\n",
       "      <td>E 100TH ST</td>\n",
       "      <td>E</td>\n",
       "      <td>100TH</td>\n",
       "      <td>ST</td>\n",
       "      <td>NaN</td>\n",
       "      <td>1</td>\n",
       "      <td>4001</td>\n",
       "    </tr>\n",
       "    <tr>\n",
       "      <th>3</th>\n",
       "      <td>W 100TH ST</td>\n",
       "      <td>W</td>\n",
       "      <td>100TH</td>\n",
       "      <td>ST</td>\n",
       "      <td>NaN</td>\n",
       "      <td>1</td>\n",
       "      <td>2799</td>\n",
       "    </tr>\n",
       "    <tr>\n",
       "      <th>4</th>\n",
       "      <td>E 101ST PL</td>\n",
       "      <td>E</td>\n",
       "      <td>101ST</td>\n",
       "      <td>PL</td>\n",
       "      <td>NaN</td>\n",
       "      <td>1</td>\n",
       "      <td>699</td>\n",
       "    </tr>\n",
       "  </tbody>\n",
       "</table>\n",
       "</div>"
      ],
      "text/plain": [
       "  Full Street Name Direction Street Suffix Suffix Direction  Min Address  \\\n",
       "0       E 100TH PL         E  100TH     PL              NaN            1   \n",
       "1       W 100TH PL         W  100TH     PL              NaN          300   \n",
       "2       E 100TH ST         E  100TH     ST              NaN            1   \n",
       "3       W 100TH ST         W  100TH     ST              NaN            1   \n",
       "4       E 101ST PL         E  101ST     PL              NaN            1   \n",
       "\n",
       "   Max Address  \n",
       "0         1199  \n",
       "1         2629  \n",
       "2         4001  \n",
       "3         2799  \n",
       "4          699  "
      ]
     },
     "execution_count": 4,
     "metadata": {},
     "output_type": "execute_result"
    }
   ],
   "source": [
    "file = pd.read_csv(path, sep=r'\\s*,\\s*',header=0, encoding='ascii', engine='python')\n",
    "file.head()"
   ]
  },
  {
   "cell_type": "code",
   "execution_count": 5,
   "metadata": {
    "scrolled": true
   },
   "outputs": [
    {
     "data": {
      "text/plain": [
       "0    100TH\n",
       "1    100TH\n",
       "2    100TH\n",
       "3    100TH\n",
       "4    101ST\n",
       "Name: Street, dtype: object"
      ]
     },
     "execution_count": 5,
     "metadata": {},
     "output_type": "execute_result"
    }
   ],
   "source": [
    "street = file[\"Street\"]\n",
    "street.head()"
   ]
  },
  {
   "cell_type": "code",
   "execution_count": 11,
   "metadata": {},
   "outputs": [
    {
     "data": {
      "text/plain": [
       "2582"
      ]
     },
     "execution_count": 11,
     "metadata": {},
     "output_type": "execute_result"
    }
   ],
   "source": [
    "len(street)"
   ]
  },
  {
   "cell_type": "code",
   "execution_count": 16,
   "metadata": {},
   "outputs": [],
   "source": [
    "street_list = street.unique()"
   ]
  },
  {
   "cell_type": "code",
   "execution_count": 10,
   "metadata": {},
   "outputs": [
    {
     "data": {
      "text/plain": [
       "1666"
      ]
     },
     "execution_count": 10,
     "metadata": {},
     "output_type": "execute_result"
    }
   ],
   "source": [
    "len(street_list)"
   ]
  },
  {
   "cell_type": "code",
   "execution_count": 17,
   "metadata": {},
   "outputs": [],
   "source": [
    "df=pd.DataFrame(street_list)"
   ]
  },
  {
   "cell_type": "code",
   "execution_count": 20,
   "metadata": {},
   "outputs": [],
   "source": [
    "df.to_csv('streets.csv', index=False, header=False)"
   ]
  }
 ],
 "metadata": {
  "kernelspec": {
   "display_name": "Python 3",
   "language": "python",
   "name": "python3"
  },
  "language_info": {
   "codemirror_mode": {
    "name": "ipython",
    "version": 3
   },
   "file_extension": ".py",
   "mimetype": "text/x-python",
   "name": "python",
   "nbconvert_exporter": "python",
   "pygments_lexer": "ipython3",
   "version": "3.7.3"
  }
 },
 "nbformat": 4,
 "nbformat_minor": 2
}

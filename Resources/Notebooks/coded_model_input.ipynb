{
 "cells": [
  {
   "cell_type": "code",
   "execution_count": null,
   "metadata": {},
   "outputs": [],
   "source": [
    "!pip install openweathermapy\n",
    "!pip install geopip\n",
    "!pip install numpy \n",
    "!pip install cython\n",
    "!pip install --upgrade geohash-hilbert"
   ]
  },
  {
   "cell_type": "code",
   "execution_count": 1,
   "metadata": {},
   "outputs": [],
   "source": [
    "import openweathermapy.core as owm\n",
    "import requests\n",
    "import geopip\n",
    "import os\n",
    "import datetime as dt"
   ]
  },
  {
   "cell_type": "code",
   "execution_count": 2,
   "metadata": {},
   "outputs": [],
   "source": [
    "# Weather API\n",
    "from config import ow_api_key\n",
    "\n",
    "# MapQuest API\n",
    "KEY = '6aMCYSpGBo4Eg20Lw7RljQ0nXcUGsA5S'\n",
    "\n",
    "# Set geopip to look at geojson file\n",
    "os.environ['REVERSE_GEOCODE_DATA'] = 'Resources/Data/community_areas.geojson'"
   ]
  },
  {
   "cell_type": "code",
   "execution_count": 3,
   "metadata": {},
   "outputs": [],
   "source": [
    "# Form Inputs\n",
    "\n",
    "start_address = '405 N Wabash Avenue, Chicago, IL'\n",
    "end_address = '938 W Webster Ave, Chicago, IL 60614'\n",
    "time = '2019-12-11 00:00:00'\n",
    "# make default app time the current time"
   ]
  },
  {
   "cell_type": "code",
   "execution_count": 4,
   "metadata": {},
   "outputs": [],
   "source": [
    "# format time to default\n",
    "\n",
    "time = '2019-12-11 00:00:00'\n",
    "noncoded_time = dt.datetime.today()\n",
    "# if error then use 'dt.datetime.today()'"
   ]
  },
  {
   "cell_type": "code",
   "execution_count": 5,
   "metadata": {},
   "outputs": [],
   "source": [
    "def coded_week(date_input):\n",
    "    weekdays = 7     \n",
    "\n",
    "    coded_week = []\n",
    "    for i in range(weekdays):\n",
    "        if i == date_input-1:\n",
    "            coded_week.append(1)\n",
    "        else:\n",
    "            coded_week.append(0)\n",
    "        \n",
    "    return coded_week"
   ]
  },
  {
   "cell_type": "code",
   "execution_count": 6,
   "metadata": {},
   "outputs": [],
   "source": [
    "# List of Coded Weekday Values\n",
    "start_date = dt.datetime.today().weekday()\n",
    "coded_week = coded_week(start_date)"
   ]
  },
  {
   "cell_type": "code",
   "execution_count": 7,
   "metadata": {},
   "outputs": [],
   "source": [
    "def coded_date(list, type):\n",
    "    if type == 'months':\n",
    "        time_frame = 12\n",
    "        list_var = 0\n",
    "        \n",
    "    elif type == 'days':\n",
    "        if list[0] in [1,3,5,7,8,10,12]:\n",
    "            time_frame = 31\n",
    "            list_var= 1\n",
    "        \n",
    "        if list[0] in [4,6,9,11]:\n",
    "            time_frame = 30\n",
    "            list_var= 1\n",
    "        \n",
    "        if list[0] in [2]:\n",
    "            time_frame = 28\n",
    "            list_var= 1\n",
    "        \n",
    "        \n",
    "    elif type == 'hr-mins':\n",
    "        time_frame = 96\n",
    "        hours = 24\n",
    "        hour = list[2]\n",
    "        minute = list[3]\n",
    "        quarter_hour = []\n",
    "        \n",
    "\n",
    "        for j in range(hours):\n",
    "            if j == hour:\n",
    "                if minute >=45:\n",
    "                    quarter_hour += [0,0,0,1]\n",
    "                elif minute >=30:\n",
    "                    quarter_hour += [0,0,1,0]\n",
    "                elif minute >=15:\n",
    "                    quarter_hour += [0,1,0,0]\n",
    "                else:\n",
    "                    quarter_hour += [1,0,0,0]\n",
    "            else:\n",
    "                quarter_hour += [0,0,0,0]\n",
    "\n",
    "     \n",
    "    if type in ['months', 'days']:\n",
    "        coded_time = []\n",
    "        for i in range(time_frame):\n",
    "            if i == list[list_var]-1:\n",
    "                coded_time.append(1)\n",
    "            else:\n",
    "                coded_time.append(0)\n",
    "        return coded_time\n",
    "    else:\n",
    "        return quarter_hour"
   ]
  },
  {
   "cell_type": "code",
   "execution_count": 8,
   "metadata": {},
   "outputs": [],
   "source": [
    "# List of Coded Months and Days (96 Quarter Hour Periods)\n",
    "noncoded_month = noncoded_time.month\n",
    "noncoded_day = noncoded_time.day\n",
    "noncoded_hour = noncoded_time.hour\n",
    "noncoded_minute = noncoded_time.minute\n",
    "date_list = [noncoded_month, noncoded_day, noncoded_hour, noncoded_minute]\n",
    "coded_dates = coded_date(date_list, 'months')+coded_date(date_list, 'days')+coded_date(date_list, 'hr-mins')"
   ]
  },
  {
   "cell_type": "code",
   "execution_count": 9,
   "metadata": {},
   "outputs": [
    {
     "data": {
      "text/plain": [
       "0"
      ]
     },
     "execution_count": 9,
     "metadata": {},
     "output_type": "execute_result"
    }
   ],
   "source": [
    "months = coded_date(date_list, 'months')\n",
    "months[10]"
   ]
  },
  {
   "cell_type": "code",
   "execution_count": 10,
   "metadata": {},
   "outputs": [],
   "source": [
    "day_times = coded_date(date_list, 'hr-mins')"
   ]
  },
  {
   "cell_type": "code",
   "execution_count": null,
   "metadata": {},
   "outputs": [],
   "source": []
  },
  {
   "cell_type": "code",
   "execution_count": 11,
   "metadata": {},
   "outputs": [],
   "source": [
    "# Extract Map Information - variables added to model\n",
    "url = f'https://www.mapquestapi.com/directions/v2/optimizedRoute?json={{\"locations\":[\"{start_address}\",\"{end_address}\"]}}&outFormat=json&key={KEY}'\n",
    "format = \"json\"\n",
    "\n",
    "street_directions = requests.get(f\"{url}\").json()\n",
    "distance = street_directions[\"route\"]['distance']\n",
    "duration = street_directions[\"route\"][\"time\"]\n",
    "start_longitude = street_directions[\"route\"][\"boundingBox\"][\"lr\"]['lng']\n",
    "start_latitude = street_directions[\"route\"][\"boundingBox\"][\"lr\"]['lat']\n",
    "end_longitude = street_directions[\"route\"][\"boundingBox\"][\"ul\"]['lng']\n",
    "end_latitude = street_directions[\"route\"][\"boundingBox\"][\"ul\"]['lat']\n"
   ]
  },
  {
   "cell_type": "code",
   "execution_count": 12,
   "metadata": {},
   "outputs": [],
   "source": [
    "def coded_community(community):\n",
    "    number_communities = 77     \n",
    "\n",
    "    coded_location = []\n",
    "    for i in range(number_communities):\n",
    "        if i == community-1:\n",
    "            coded_location.append(1)\n",
    "        else:\n",
    "            coded_location.append(0)\n",
    "        \n",
    "    return coded_location"
   ]
  },
  {
   "cell_type": "code",
   "execution_count": 13,
   "metadata": {},
   "outputs": [],
   "source": [
    "# List of Coded Start Community\n",
    "start_geo = int(geopip.search(start_longitude, start_latitude)['area_num_1'])\n",
    "coded_start_community = coded_community(start_geo)"
   ]
  },
  {
   "cell_type": "code",
   "execution_count": 14,
   "metadata": {},
   "outputs": [
    {
     "data": {
      "text/plain": [
       "0"
      ]
     },
     "execution_count": 14,
     "metadata": {},
     "output_type": "execute_result"
    }
   ],
   "source": [
    "coded_start_community[75]"
   ]
  },
  {
   "cell_type": "code",
   "execution_count": 15,
   "metadata": {},
   "outputs": [],
   "source": [
    "# List of Coded End Community\n",
    "end_geo = int(geopip.search(end_longitude, end_latitude)['area_num_1'])\n",
    "coded_end_community = coded_community(end_geo)"
   ]
  },
  {
   "cell_type": "code",
   "execution_count": 24,
   "metadata": {},
   "outputs": [],
   "source": [
    "# Retrieve Weather Data\n",
    "settings = {\"units\": \"imperial\", \"appid\": ow_api_key}\n",
    "location = (start_latitude, start_longitude)\n",
    "current_weather_chicago = owm.get_current(location, **settings)\n",
    "actual_temp = current_weather_chicago('main.temp')\n",
    "feels_temp = current_weather_chicago('main.feels_like')\n",
    "pressure = current_weather_chicago('main.pressure')\n",
    "humidity = current_weather_chicago('main.humidity')\n",
    "\n",
    "# Precipitation calc\n",
    "# https://openweathermap.org/weather-conditions\n",
    "# https://openweathermap.org/weather-data\n",
    "\n",
    "# weather code converted into average precipitation value\n",
    "rain_light_precipitation = [200, 230, 231, 300, 301, 310, 311, 500, 520]\n",
    "rain_moderate_precipitation = [201, 232, 302, 312, 313, 321, 501, 521]\n",
    "rain_intense_precipitation = [202, 314, 502, 503, 504, 531]\n",
    "\n",
    "weather_code = current_weather_chicago('cod')\n",
    "\n",
    "if weather_code in rain_light_precipitation:\n",
    "    rain = 0.1\n",
    "elif weather_code in rain_moderate_precipitation:\n",
    "    rain = 1.0\n",
    "elif weather_code in rain_intense_precipitation:\n",
    "    rain = 2.0\n",
    "else:\n",
    "    rain = 0.0\n",
    "\n",
    "snow_light_precipitation = [600, 620]\n",
    "snow_moderate_precipitation = [601, 612, 613, 615, 616, 621]\n",
    "snow_intense_precipitation = [602, 611, 622]\n",
    "\n",
    "if weather_code in snow_light_precipitation:\n",
    "    snow = 0.1\n",
    "elif weather_code in snow_moderate_precipitation:\n",
    "    snow = 1.0\n",
    "elif weather_code in snow_intense_precipitation:\n",
    "    snow = 2.0\n",
    "else:\n",
    "    snow = 0.0\n",
    "\n",
    "weather = [actual_temp, feels_temp, pressure, humidity, rain, snow]"
   ]
  },
  {
   "cell_type": "code",
   "execution_count": null,
   "metadata": {},
   "outputs": [],
   "source": [
    "# for rain it might not show up in the request becasue there is not key-value pair is there is no rain = need to create /\n",
    "# logic that adds 0"
   ]
  },
  {
   "cell_type": "code",
   "execution_count": 25,
   "metadata": {},
   "outputs": [
    {
     "data": {
      "text/plain": [
       "[3.51, -8.91, 1030, 55, 0.1, 0.0]"
      ]
     },
     "execution_count": 25,
     "metadata": {},
     "output_type": "execute_result"
    }
   ],
   "source": [
    "weather"
   ]
  },
  {
   "cell_type": "code",
   "execution_count": 18,
   "metadata": {},
   "outputs": [
    {
     "data": {
      "text/plain": [
       "(41.889717, -87.626656)"
      ]
     },
     "execution_count": 18,
     "metadata": {},
     "output_type": "execute_result"
    }
   ],
   "source": [
    "location"
   ]
  },
  {
   "cell_type": "code",
   "execution_count": 26,
   "metadata": {},
   "outputs": [],
   "source": [
    "# ML_input2 = [duration, distance, start_geo, end_geo, start_longitude, start_latitude, end_longitude, end_latitude] + coded_week + coded_date + coded_start_community + coded_end_community + weather\n",
    "ML_input = [duration, distance, rain, coded_start_community[75], coded_end_community[75], actual_temp, coded_dates[10], coded_start_community[55], coded_end_community[55], snow]"
   ]
  },
  {
   "cell_type": "code",
   "execution_count": 27,
   "metadata": {},
   "outputs": [
    {
     "data": {
      "text/plain": [
       "[476, 3.266, 0.1, 0, 0, 3.51, 0, 0, 0, 0.0]"
      ]
     },
     "execution_count": 27,
     "metadata": {},
     "output_type": "execute_result"
    }
   ],
   "source": [
    "ML_input"
   ]
  },
  {
   "cell_type": "code",
   "execution_count": 23,
   "metadata": {},
   "outputs": [
    {
     "data": {
      "text/plain": [
       "10"
      ]
     },
     "execution_count": 23,
     "metadata": {},
     "output_type": "execute_result"
    }
   ],
   "source": [
    "len(ML_input)"
   ]
  },
  {
   "cell_type": "code",
   "execution_count": 21,
   "metadata": {},
   "outputs": [],
   "source": [
    "import pandas as pd\n"
   ]
  },
  {
   "cell_type": "code",
   "execution_count": 22,
   "metadata": {},
   "outputs": [
    {
     "data": {
      "text/html": [
       "<div>\n",
       "<style scoped>\n",
       "    .dataframe tbody tr th:only-of-type {\n",
       "        vertical-align: middle;\n",
       "    }\n",
       "\n",
       "    .dataframe tbody tr th {\n",
       "        vertical-align: top;\n",
       "    }\n",
       "\n",
       "    .dataframe thead th {\n",
       "        text-align: right;\n",
       "    }\n",
       "</style>\n",
       "<table border=\"1\" class=\"dataframe\">\n",
       "  <thead>\n",
       "    <tr style=\"text-align: right;\">\n",
       "      <th></th>\n",
       "      <th>0</th>\n",
       "    </tr>\n",
       "  </thead>\n",
       "  <tbody>\n",
       "    <tr>\n",
       "      <th>0</th>\n",
       "      <td>476.000</td>\n",
       "    </tr>\n",
       "    <tr>\n",
       "      <th>1</th>\n",
       "      <td>3.266</td>\n",
       "    </tr>\n",
       "    <tr>\n",
       "      <th>2</th>\n",
       "      <td>0.100</td>\n",
       "    </tr>\n",
       "    <tr>\n",
       "      <th>3</th>\n",
       "      <td>0.000</td>\n",
       "    </tr>\n",
       "    <tr>\n",
       "      <th>4</th>\n",
       "      <td>0.000</td>\n",
       "    </tr>\n",
       "    <tr>\n",
       "      <th>5</th>\n",
       "      <td>3.700</td>\n",
       "    </tr>\n",
       "    <tr>\n",
       "      <th>6</th>\n",
       "      <td>0.000</td>\n",
       "    </tr>\n",
       "    <tr>\n",
       "      <th>7</th>\n",
       "      <td>0.000</td>\n",
       "    </tr>\n",
       "    <tr>\n",
       "      <th>8</th>\n",
       "      <td>0.000</td>\n",
       "    </tr>\n",
       "    <tr>\n",
       "      <th>9</th>\n",
       "      <td>0.100</td>\n",
       "    </tr>\n",
       "  </tbody>\n",
       "</table>\n",
       "</div>"
      ],
      "text/plain": [
       "         0\n",
       "0  476.000\n",
       "1    3.266\n",
       "2    0.100\n",
       "3    0.000\n",
       "4    0.000\n",
       "5    3.700\n",
       "6    0.000\n",
       "7    0.000\n",
       "8    0.000\n",
       "9    0.100"
      ]
     },
     "execution_count": 22,
     "metadata": {},
     "output_type": "execute_result"
    }
   ],
   "source": [
    "pd.DataFrame(ML_input)"
   ]
  }
 ],
 "metadata": {
  "kernelspec": {
   "display_name": "Python 3",
   "language": "python",
   "name": "python3"
  },
  "language_info": {
   "codemirror_mode": {
    "name": "ipython",
    "version": 3
   },
   "file_extension": ".py",
   "mimetype": "text/x-python",
   "name": "python",
   "nbconvert_exporter": "python",
   "pygments_lexer": "ipython3",
   "version": "3.7.3"
  }
 },
 "nbformat": 4,
 "nbformat_minor": 2
}
